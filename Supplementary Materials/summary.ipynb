{
 "cells": [
  {
   "cell_type": "markdown",
   "id": "4b470852",
   "metadata": {},
   "source": [
    "# 🧠 Ollama Summary Generator with Shutdown\n",
    "This notebook lets you:\n",
    "- Choose a model and prompt style\n",
    "- Generate summaries by extrating text from a .CSV file\n",
    "- Optionally shut down the Ollama server from within Jupyter Notebook\n",
    "\n",
    "**Note:** Make sure `ollama serve` is running in your Terminal before running this notebook."
   ]
  },
  {
   "cell_type": "code",
   "execution_count": 29,
   "id": "a0a2ccb3",
   "metadata": {},
   "outputs": [],
   "source": [
    "# Step 1: Import required libraries\n",
    "import requests\n",
    "import time\n",
    "from datetime import datetime\n",
    "import subprocess\n",
    "from IPython.display import display, clear_output\n",
    "from ipywidgets import Dropdown, Button, Output, VBox\n",
    "import json\n",
    "import pandas as pd\n",
    "import os\n",
    "import matplotlib.pyplot as plt\n",
    "from sklearn.metrics import (accuracy_score, balanced_accuracy_score, precision_score,\n",
    "        recall_score, f1_score, confusion_matrix, ConfusionMatrixDisplay)"
   ]
  },
  {
   "cell_type": "code",
   "execution_count": 30,
   "id": "9a3b7f29",
   "metadata": {},
   "outputs": [
    {
     "data": {
      "application/vnd.jupyter.widget-view+json": {
       "model_id": "d9fe11b1257b49ac8a58fe117b018444",
       "version_major": 2,
       "version_minor": 0
      },
      "text/plain": [
       "VBox(children=(Dropdown(description='Model:', options=('mistral', 'llama2', 'tinyllama'), value='mistral'), Dr…"
      ]
     },
     "metadata": {},
     "output_type": "display_data"
    }
   ],
   "source": [
    "# Step 2: Configure Models and Prompts\n",
    "models = ['mistral', 'llama2', 'tinyllama'] #Add more models as required\n",
    "prompts = ['one-shot', 'few-shot', 'cot'] ##Add more prompts as required\n",
    "\n",
    "model_dropdown = Dropdown(options=models, value='mistral', description='Model:')\n",
    "prompt_dropdown = Dropdown(options=prompts, value='cot', description='Prompt:')\n",
    "\n",
    "display(VBox([model_dropdown, prompt_dropdown]))"
   ]
  },
  {
   "cell_type": "code",
   "execution_count": 5,
   "id": "e1711e84",
   "metadata": {},
   "outputs": [
    {
     "data": {
      "text/html": [
       "<div>\n",
       "<style scoped>\n",
       "    .dataframe tbody tr th:only-of-type {\n",
       "        vertical-align: middle;\n",
       "    }\n",
       "\n",
       "    .dataframe tbody tr th {\n",
       "        vertical-align: top;\n",
       "    }\n",
       "\n",
       "    .dataframe thead th {\n",
       "        text-align: right;\n",
       "    }\n",
       "</style>\n",
       "<table border=\"1\" class=\"dataframe\">\n",
       "  <thead>\n",
       "    <tr style=\"text-align: right;\">\n",
       "      <th></th>\n",
       "      <th>Unnamed: 0</th>\n",
       "      <th>date</th>\n",
       "      <th>originalTitle</th>\n",
       "      <th>description</th>\n",
       "      <th>product</th>\n",
       "      <th>hazard</th>\n",
       "      <th>productCategory</th>\n",
       "      <th>hazardCategory</th>\n",
       "      <th>supplier</th>\n",
       "      <th>origin</th>\n",
       "      <th>url</th>\n",
       "    </tr>\n",
       "  </thead>\n",
       "  <tbody>\n",
       "    <tr>\n",
       "      <th>0</th>\n",
       "      <td>0</td>\n",
       "      <td>2024-10-31T00:00:00</td>\n",
       "      <td>Elevation Foods Issues Recall Due to Undeclare...</td>\n",
       "      <td>Danvers, Massachusetts. R. Walters LLC dba Ele...</td>\n",
       "      <td>seafood products</td>\n",
       "      <td>soybeans and products thereof</td>\n",
       "      <td>fish and fish products</td>\n",
       "      <td>allergens</td>\n",
       "      <td>R. Walters LLC dba Elevation Foods</td>\n",
       "      <td>united states</td>\n",
       "      <td>https://www.fda.gov/safety/recalls-market-with...</td>\n",
       "    </tr>\n",
       "    <tr>\n",
       "      <th>1</th>\n",
       "      <td>1</td>\n",
       "      <td>2024-10-31T00:00:00</td>\n",
       "      <td>Kaminsalami geschnitten, 100 Gramm</td>\n",
       "      <td>Bildquelle © Waldburger Schinken Boos GmbHVerp...</td>\n",
       "      <td>sliced salami</td>\n",
       "      <td>mustard and products thereof</td>\n",
       "      <td>meat and meat products (other than poultry)</td>\n",
       "      <td>allergens</td>\n",
       "      <td>Waldburger Schinken Boos GmbH</td>\n",
       "      <td>germany</td>\n",
       "      <td>https://www.lebensmittelwarnung.de/___lebensmi...</td>\n",
       "    </tr>\n",
       "    <tr>\n",
       "      <th>2</th>\n",
       "      <td>2</td>\n",
       "      <td>2024-10-31T00:00:00</td>\n",
       "      <td>Kaminsalami geschnitten, 100 Gramm</td>\n",
       "      <td>Bildquelle © Waldburger Schinken Boos GmbHVerp...</td>\n",
       "      <td>sliced salami</td>\n",
       "      <td>mustard and products thereof</td>\n",
       "      <td>meat and meat products (other than poultry)</td>\n",
       "      <td>allergens</td>\n",
       "      <td>Waldburger Schinken Boos GmbH</td>\n",
       "      <td>germany</td>\n",
       "      <td>https://www.lebensmittelwarnung.de/___lebensmi...</td>\n",
       "    </tr>\n",
       "    <tr>\n",
       "      <th>3</th>\n",
       "      <td>3</td>\n",
       "      <td>2024-10-31T00:00:00</td>\n",
       "      <td>Schoko Brezeln</td>\n",
       "      <td>Bildquelle © Felföldi Édességgyártó Kft.Verpac...</td>\n",
       "      <td>pretzels</td>\n",
       "      <td>risk of mouth injury as a result of the consum...</td>\n",
       "      <td>cereals and bakery products</td>\n",
       "      <td>other hazard</td>\n",
       "      <td>Felfoldi Edesseggyarto Kft.</td>\n",
       "      <td>hungary</td>\n",
       "      <td>https://www.lebensmittelwarnung.de/___lebensmi...</td>\n",
       "    </tr>\n",
       "    <tr>\n",
       "      <th>4</th>\n",
       "      <td>4</td>\n",
       "      <td>2024-10-31T00:00:00</td>\n",
       "      <td>Kaminsalami geschnitten, 100 Gramm</td>\n",
       "      <td>Bildquelle © Waldburger Schinken Boos GmbHVerp...</td>\n",
       "      <td>sliced salami</td>\n",
       "      <td>mustard and products thereof</td>\n",
       "      <td>meat and meat products (other than poultry)</td>\n",
       "      <td>allergens</td>\n",
       "      <td>Waldburger Schinken Boos GmbH</td>\n",
       "      <td>germany</td>\n",
       "      <td>https://www.lebensmittelwarnung.de/___lebensmi...</td>\n",
       "    </tr>\n",
       "  </tbody>\n",
       "</table>\n",
       "</div>"
      ],
      "text/plain": [
       "   Unnamed: 0                 date  \\\n",
       "0           0  2024-10-31T00:00:00   \n",
       "1           1  2024-10-31T00:00:00   \n",
       "2           2  2024-10-31T00:00:00   \n",
       "3           3  2024-10-31T00:00:00   \n",
       "4           4  2024-10-31T00:00:00   \n",
       "\n",
       "                                       originalTitle  \\\n",
       "0  Elevation Foods Issues Recall Due to Undeclare...   \n",
       "1                 Kaminsalami geschnitten, 100 Gramm   \n",
       "2                 Kaminsalami geschnitten, 100 Gramm   \n",
       "3                                     Schoko Brezeln   \n",
       "4                 Kaminsalami geschnitten, 100 Gramm   \n",
       "\n",
       "                                         description           product  \\\n",
       "0  Danvers, Massachusetts. R. Walters LLC dba Ele...  seafood products   \n",
       "1  Bildquelle © Waldburger Schinken Boos GmbHVerp...     sliced salami   \n",
       "2  Bildquelle © Waldburger Schinken Boos GmbHVerp...     sliced salami   \n",
       "3  Bildquelle © Felföldi Édességgyártó Kft.Verpac...          pretzels   \n",
       "4  Bildquelle © Waldburger Schinken Boos GmbHVerp...     sliced salami   \n",
       "\n",
       "                                              hazard  \\\n",
       "0                      soybeans and products thereof   \n",
       "1                       mustard and products thereof   \n",
       "2                       mustard and products thereof   \n",
       "3  risk of mouth injury as a result of the consum...   \n",
       "4                       mustard and products thereof   \n",
       "\n",
       "                               productCategory hazardCategory  \\\n",
       "0                       fish and fish products      allergens   \n",
       "1  meat and meat products (other than poultry)      allergens   \n",
       "2  meat and meat products (other than poultry)      allergens   \n",
       "3                  cereals and bakery products   other hazard   \n",
       "4  meat and meat products (other than poultry)      allergens   \n",
       "\n",
       "                             supplier         origin  \\\n",
       "0  R. Walters LLC dba Elevation Foods  united states   \n",
       "1       Waldburger Schinken Boos GmbH        germany   \n",
       "2       Waldburger Schinken Boos GmbH        germany   \n",
       "3         Felfoldi Edesseggyarto Kft.        hungary   \n",
       "4       Waldburger Schinken Boos GmbH        germany   \n",
       "\n",
       "                                                 url  \n",
       "0  https://www.fda.gov/safety/recalls-market-with...  \n",
       "1  https://www.lebensmittelwarnung.de/___lebensmi...  \n",
       "2  https://www.lebensmittelwarnung.de/___lebensmi...  \n",
       "3  https://www.lebensmittelwarnung.de/___lebensmi...  \n",
       "4  https://www.lebensmittelwarnung.de/___lebensmi...  "
      ]
     },
     "execution_count": 5,
     "metadata": {},
     "output_type": "execute_result"
    }
   ],
   "source": [
    "# Step 3: Load input CSV with 'description' column\n",
    "input_csv = \"input.csv\"\n",
    "df= pd.read_csv(input_csv)#.head(4)\n",
    "assert 'columns_name' in df.columns, \"❌ 'columns_name' column not found in the CSV.\"\n",
    "df.head()"
   ]
  },
  {
   "cell_type": "markdown",
   "id": "5819a140",
   "metadata": {},
   "source": [
    "### Task- Summarization "
   ]
  },
  {
   "cell_type": "code",
   "execution_count": 41,
   "id": "6665595e",
   "metadata": {},
   "outputs": [],
   "source": [
    "# Step 4: Define Prompt Templates (tweak as necessary)\n",
    "prompt_templates = {\n",
    "    \"one-shot\": \"Summarize the following report clearly and concisely:\\n\\n{text}\\n\\nSummary:\",\n",
    "    \"few-shot\": (\n",
    "        \"Here is how you summarize reports:\\n\"\n",
    "        \"Example:\\nInput: A fire broke out in the kitchen due to a gas leak.\\n\"\n",
    "        \"Summary: Kitchen fire caused by gas leak.\\n\\nNow summarize:\\n{text}\\n\\nSummary:\"\n",
    "    ),\n",
    "    \"cot\": (\n",
    "        \"Read the report carefully and write a well-structured, fluent summary using natural language paragraphs only. \"\n",
    "        \"Do not use any numbering, bullet points, or formatting. Maintain the original meaning, but phrase it concisely \"\n",
    "        \"in your own words without any extra commentary.\\n\\n\"\n",
    "        \"Report:\\n{text}\\n\\nSummary:\"\n",
    "    ),\n",
    "}"
   ]
  },
  {
   "cell_type": "markdown",
   "id": "c5df3a94",
   "metadata": {},
   "source": [
    "### Function for Generating Summaries"
   ]
  },
  {
   "cell_type": "code",
   "execution_count": 45,
   "id": "f0925689",
   "metadata": {},
   "outputs": [],
   "source": [
    "# Step 5: Define the summarization function (with streaming fix and fallback)\n",
    "def run_summary(model, prompt_type, filename):\n",
    "    import json\n",
    "\n",
    "    prompt_template = prompt_templates[prompt_type]\n",
    "    summaries = []\n",
    "    times = []\n",
    "    start_all = time.time()\n",
    "\n",
    "    for i, text in enumerate(df['columns_name']):\n",
    "        summary = \"ERROR\"  # fallback assignment\n",
    "        try:\n",
    "            start = time.time()\n",
    "            prompt = prompt_template.format(text=text)\n",
    "\n",
    "            response = requests.post(\n",
    "                \"http://localhost:11434/api/generate\",\n",
    "                json={\"model\": model, \"prompt\": prompt},\n",
    "                stream=True\n",
    "            )\n",
    "            response.raise_for_status()\n",
    "\n",
    "            # Collect streamed JSON output\n",
    "            parts = []\n",
    "            for line in response.iter_lines():\n",
    "                if line:\n",
    "                    try:\n",
    "                        data = json.loads(line.decode(\"utf-8\"))\n",
    "                        if \"response\" in data:\n",
    "                            parts.append(data[\"response\"])\n",
    "                    except Exception as parse_err:\n",
    "                        print(f\"⚠️ Stream parse error at row {i+1}: {parse_err}\")\n",
    "\n",
    "            summary = \"\".join(parts).strip()\n",
    "\n",
    "        except Exception as e:\n",
    "            print(f\"⚠️ Error at row {i+1}: {e}\")\n",
    "\n",
    "        summaries.append(summary)\n",
    "        times.append(round(time.time() - start, 2))\n",
    "        print(f\"{i+1}/{len(df)} complete.\")\n",
    "\n",
    "    df[f\"{model}_{prompt_type}_summary\"] = summaries\n",
    "    df[f\"{model}_{prompt_type}_time\"] = times\n",
    "\n",
    "    output_file = f\"summaries_{model}_{prompt_type}_{input_csv}\"\n",
    "    df.to_csv(output_file, index=False)\n",
    "    total_time = round(time.time() - start_all, 2)\n",
    "    print(f\"✅ Saved to {output_file}\")\n",
    "    print(f\"⏱️ Total time: {total_time}s\")"
   ]
  },
  {
   "cell_type": "code",
   "execution_count": 46,
   "id": "c1072ef8",
   "metadata": {},
   "outputs": [
    {
     "name": "stdout",
     "output_type": "stream",
     "text": [
      "1/4 complete.\n",
      "2/4 complete.\n",
      "3/4 complete.\n",
      "4/4 complete.\n",
      "✅ Saved to summaries_mistral_cot_split_2.csv\n",
      "⏱️ Total time: 45.8s\n"
     ]
    }
   ],
   "source": [
    "# Step 6: Run the summary generator with selected model and prompt\n",
    "run_summary(model_dropdown.value, prompt_dropdown.value,input_csv)"
   ]
  },
  {
   "cell_type": "code",
   "execution_count": 3,
   "id": "b1c70c42",
   "metadata": {},
   "outputs": [
    {
     "name": "stdout",
     "output_type": "stream",
     "text": [
      "🛑 Ollama server stopped.\n"
     ]
    }
   ],
   "source": [
    "# Step 7: Optional — Shut down the Ollama server\n",
    "def stop_ollama():\n",
    "    try:\n",
    "        subprocess.run(\"kill $(lsof -ti :11434)\", shell=True, check=True)\n",
    "        print(\"🛑 Ollama server stopped.\")\n",
    "    except Exception as e:\n",
    "        print(f\"⚠️ Could not stop Ollama: {e}\")\n",
    "\n",
    "# Uncomment to stop Ollama from Jupyter\n",
    "stop_ollama()\n"
   ]
  }
 ],
 "metadata": {
  "kernelspec": {
   "display_name": "Python 3 (ipykernel)",
   "language": "python",
   "name": "python3"
  },
  "language_info": {
   "codemirror_mode": {
    "name": "ipython",
    "version": 3
   },
   "file_extension": ".py",
   "mimetype": "text/x-python",
   "name": "python",
   "nbconvert_exporter": "python",
   "pygments_lexer": "ipython3",
   "version": "3.11.5"
  }
 },
 "nbformat": 4,
 "nbformat_minor": 5
}
